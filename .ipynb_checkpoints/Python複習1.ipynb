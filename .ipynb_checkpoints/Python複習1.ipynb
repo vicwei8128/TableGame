{
 "cells": [
  {
   "cell_type": "markdown",
   "metadata": {},
   "source": [
    "# while loop"
   ]
  },
  {
   "cell_type": "code",
   "execution_count": 3,
   "metadata": {},
   "outputs": [
    {
     "name": "stdout",
     "output_type": "stream",
     "text": [
      "please make guess during 1~6.: 5\n",
      "bingo\n"
     ]
    }
   ],
   "source": [
    "answer = 5\n",
    "guess = 0\n",
    "\n",
    "while guess != answer:\n",
    "    guess = int(input('please make guess during 1~6.: '))\n",
    "    if guess > answer:\n",
    "        print('bigger than answer')\n",
    "    elif guess < answer:\n",
    "        print('smaller than answer')\n",
    "    else:\n",
    "        print('bingo')"
   ]
  },
  {
   "cell_type": "code",
   "execution_count": 1,
   "metadata": {},
   "outputs": [
    {
     "name": "stdout",
     "output_type": "stream",
     "text": [
      "please make guess during 1~6.: 3\n",
      "bingo\n"
     ]
    }
   ],
   "source": [
    "answer = 3\n",
    "guess = 0\n",
    "\n",
    "while True:\n",
    "    guess = int(input('please make guess during 1~6.: '))\n",
    "    if guess > answer:\n",
    "        print('bigger than answer')\n",
    "    elif guess < answer:\n",
    "        print('smaller than answer')\n",
    "    else:\n",
    "        print('bingo')\n",
    "        break"
   ]
  },
  {
   "cell_type": "code",
   "execution_count": 9,
   "metadata": {},
   "outputs": [
    {
     "name": "stdout",
     "output_type": "stream",
     "text": [
      "1\n",
      "2\n",
      "3\n",
      "4\n",
      "5\n"
     ]
    }
   ],
   "source": [
    "i = 1\n",
    "while i < 6:\n",
    "    print(i)\n",
    "    i += 1 # i = i + 1"
   ]
  },
  {
   "cell_type": "code",
   "execution_count": 11,
   "metadata": {},
   "outputs": [
    {
     "name": "stdout",
     "output_type": "stream",
     "text": [
      "num_sum: 1, i: 1\n",
      "num_sum: 3, i: 2\n",
      "num_sum: 6, i: 3\n",
      "num_sum: 10, i: 4\n",
      "num_sum: 15, i: 5\n",
      "num_sum: 21, i: 6\n",
      "num_sum: 28, i: 7\n",
      "num_sum: 36, i: 8\n",
      "num_sum: 45, i: 9\n",
      "num_sum: 55, i: 10\n",
      "num_sum: 66, i: 11\n",
      "num_sum: 78, i: 12\n",
      "num_sum: 91, i: 13\n",
      "num_sum: 105, i: 14\n",
      "num_sum: 120, i: 15\n",
      "num_sum: 136, i: 16\n",
      "num_sum: 153, i: 17\n",
      "num_sum: 171, i: 18\n",
      "num_sum: 190, i: 19\n",
      "num_sum: 210, i: 20\n",
      "num_sum: 231, i: 21\n",
      "num_sum: 253, i: 22\n",
      "num_sum: 276, i: 23\n",
      "num_sum: 300, i: 24\n",
      "num_sum: 325, i: 25\n",
      "num_sum: 351, i: 26\n",
      "num_sum: 378, i: 27\n",
      "num_sum: 406, i: 28\n",
      "num_sum: 435, i: 29\n",
      "num_sum: 465, i: 30\n",
      "num_sum: 496, i: 31\n",
      "num_sum: 528, i: 32\n",
      "num_sum: 561, i: 33\n",
      "num_sum: 595, i: 34\n",
      "num_sum: 630, i: 35\n",
      "num_sum: 666, i: 36\n",
      "num_sum: 703, i: 37\n",
      "num_sum: 741, i: 38\n",
      "num_sum: 780, i: 39\n",
      "num_sum: 820, i: 40\n",
      "num_sum: 861, i: 41\n",
      "num_sum: 903, i: 42\n",
      "num_sum: 946, i: 43\n",
      "num_sum: 990, i: 44\n",
      "num_sum: 1035, i: 45\n",
      "num_sum: 1081, i: 46\n",
      "num_sum: 1128, i: 47\n",
      "num_sum: 1176, i: 48\n",
      "num_sum: 1225, i: 49\n",
      "num_sum: 1275, i: 50\n",
      "num_sum: 1326, i: 51\n",
      "num_sum: 1378, i: 52\n",
      "num_sum: 1431, i: 53\n",
      "num_sum: 1485, i: 54\n",
      "num_sum: 1540, i: 55\n",
      "num_sum: 1596, i: 56\n",
      "num_sum: 1653, i: 57\n",
      "num_sum: 1711, i: 58\n",
      "num_sum: 1770, i: 59\n",
      "num_sum: 1830, i: 60\n",
      "num_sum: 1891, i: 61\n",
      "num_sum: 1953, i: 62\n",
      "num_sum: 2016, i: 63\n",
      "num_sum: 2080, i: 64\n",
      "num_sum: 2145, i: 65\n",
      "num_sum: 2211, i: 66\n",
      "num_sum: 2278, i: 67\n",
      "num_sum: 2346, i: 68\n",
      "num_sum: 2415, i: 69\n",
      "num_sum: 2485, i: 70\n",
      "num_sum: 2556, i: 71\n",
      "num_sum: 2628, i: 72\n",
      "num_sum: 2701, i: 73\n",
      "num_sum: 2775, i: 74\n",
      "num_sum: 2850, i: 75\n",
      "num_sum: 2926, i: 76\n",
      "num_sum: 3003, i: 77\n",
      "num_sum: 3081, i: 78\n",
      "num_sum: 3160, i: 79\n",
      "num_sum: 3240, i: 80\n",
      "num_sum: 3321, i: 81\n",
      "num_sum: 3403, i: 82\n",
      "num_sum: 3486, i: 83\n",
      "num_sum: 3570, i: 84\n",
      "num_sum: 3655, i: 85\n",
      "num_sum: 3741, i: 86\n",
      "num_sum: 3828, i: 87\n",
      "num_sum: 3916, i: 88\n",
      "num_sum: 4005, i: 89\n",
      "num_sum: 4095, i: 90\n",
      "num_sum: 4186, i: 91\n",
      "num_sum: 4278, i: 92\n",
      "num_sum: 4371, i: 93\n",
      "num_sum: 4465, i: 94\n",
      "num_sum: 4560, i: 95\n",
      "num_sum: 4656, i: 96\n",
      "num_sum: 4753, i: 97\n",
      "num_sum: 4851, i: 98\n",
      "num_sum: 4950, i: 99\n",
      "num_sum: 5050, i: 100\n",
      "num_sum: 5151, i: 101\n",
      "1+2+......+100 = 5151\n"
     ]
    }
   ],
   "source": [
    "i = 0\n",
    "num_sum = 0\n",
    "while i <= 100:\n",
    "    i += 1\n",
    "    num_sum += i\n",
    "    print('num_sum: {}, i: {}'.format(num_sum, i))\n",
    "print('1+2+......+100 = {}'.format(num_sum))"
   ]
  },
  {
   "cell_type": "code",
   "execution_count": 32,
   "metadata": {},
   "outputs": [
    {
     "name": "stdout",
     "output_type": "stream",
     "text": [
      "num_sum: 0, i: 0\n",
      "num_sum: 2, i: 2\n",
      "num_sum: 5, i: 3\n",
      "num_sum: 10, i: 5\n",
      "num_sum: 16, i: 6\n",
      "num_sum: 24, i: 8\n",
      "num_sum: 33, i: 9\n",
      "num_sum: 44, i: 11\n",
      "num_sum: 56, i: 12\n",
      "num_sum: 70, i: 14\n",
      "num_sum: 85, i: 15\n",
      "num_sum: 102, i: 17\n",
      "num_sum: 120, i: 18\n",
      "num_sum: 140, i: 20\n",
      "num_sum: 161, i: 21\n",
      "num_sum: 184, i: 23\n",
      "num_sum: 208, i: 24\n",
      "num_sum: 234, i: 26\n",
      "num_sum: 261, i: 27\n",
      "num_sum: 290, i: 29\n",
      "num_sum: 320, i: 30\n",
      "num_sum: 352, i: 32\n",
      "num_sum: 385, i: 33\n",
      "num_sum: 420, i: 35\n",
      "num_sum: 456, i: 36\n",
      "num_sum: 494, i: 38\n",
      "num_sum: 533, i: 39\n",
      "num_sum: 574, i: 41\n",
      "num_sum: 616, i: 42\n",
      "num_sum: 660, i: 44\n",
      "num_sum: 705, i: 45\n",
      "num_sum: 752, i: 47\n",
      "num_sum: 800, i: 48\n",
      "num_sum: 850, i: 50\n",
      "num_sum: 901, i: 51\n",
      "num_sum: 954, i: 53\n",
      "num_sum: 1008, i: 54\n",
      "num_sum: 1064, i: 56\n",
      "num_sum: 1121, i: 57\n",
      "num_sum: 1180, i: 59\n",
      "num_sum: 1240, i: 60\n",
      "num_sum: 1302, i: 62\n",
      "num_sum: 1365, i: 63\n",
      "num_sum: 1430, i: 65\n",
      "num_sum: 1496, i: 66\n",
      "num_sum: 1564, i: 68\n",
      "num_sum: 1633, i: 69\n",
      "num_sum: 1704, i: 71\n",
      "num_sum: 1776, i: 72\n",
      "num_sum: 1850, i: 74\n",
      "num_sum: 1925, i: 75\n",
      "num_sum: 2002, i: 77\n",
      "num_sum: 2080, i: 78\n",
      "num_sum: 2160, i: 80\n",
      "num_sum: 2241, i: 81\n",
      "num_sum: 2324, i: 83\n",
      "num_sum: 2408, i: 84\n",
      "num_sum: 2494, i: 86\n",
      "num_sum: 2581, i: 87\n",
      "num_sum: 2670, i: 89\n",
      "num_sum: 2760, i: 90\n",
      "num_sum: 2852, i: 92\n",
      "num_sum: 2945, i: 93\n",
      "num_sum: 3040, i: 95\n",
      "num_sum: 3136, i: 96\n",
      "num_sum: 3234, i: 98\n",
      "num_sum: 3333, i: 99\n",
      "2+4+6......+100 = 3333\n"
     ]
    }
   ],
   "source": [
    "i = 0\n",
    "num_sum = 0\n",
    "while i <= 100:\n",
    "    if i % 3 == 1:\n",
    "        i += 1\n",
    "        continue\n",
    "    num_sum += i\n",
    "    print('num_sum: {}, i: {}'.format(num_sum, i))\n",
    "    i += 1\n",
    "\n",
    "print('2+4+6......+100 = {}'.format(num_sum))"
   ]
  },
  {
   "cell_type": "code",
   "execution_count": 34,
   "metadata": {},
   "outputs": [
    {
     "name": "stdout",
     "output_type": "stream",
     "text": [
      "num_sum: 0, i: 0\n",
      "num_sum: 1, i: 1\n",
      "num_sum: 3, i: 2\n",
      "num_sum: 6, i: 3\n",
      "num_sum: 10, i: 4\n",
      "num_sum: 15, i: 5\n",
      "num_sum: 21, i: 6\n",
      "num_sum: 28, i: 7\n",
      "num_sum: 36, i: 8\n",
      "num_sum: 45, i: 9\n",
      "num_sum: 55, i: 10\n",
      "num_sum: 66, i: 11\n",
      "num_sum: 78, i: 12\n",
      "num_sum: 91, i: 13\n",
      "num_sum: 105, i: 14\n",
      "num_sum: 120, i: 15\n",
      "num_sum: 136, i: 16\n",
      "num_sum: 153, i: 17\n",
      "num_sum: 171, i: 18\n",
      "num_sum: 190, i: 19\n",
      "num_sum: 210, i: 20\n",
      "num_sum: 231, i: 21\n",
      "num_sum: 253, i: 22\n",
      "num_sum: 276, i: 23\n",
      "num_sum: 300, i: 24\n",
      "num_sum: 325, i: 25\n",
      "num_sum: 351, i: 26\n",
      "num_sum: 378, i: 27\n",
      "num_sum: 406, i: 28\n",
      "num_sum: 435, i: 29\n",
      "num_sum: 465, i: 30\n",
      "num_sum: 496, i: 31\n",
      "num_sum: 528, i: 32\n",
      "num_sum: 561, i: 33\n",
      "num_sum: 595, i: 34\n",
      "num_sum: 630, i: 35\n",
      "num_sum: 666, i: 36\n",
      "num_sum: 703, i: 37\n",
      "num_sum: 741, i: 38\n",
      "num_sum: 780, i: 39\n",
      "num_sum: 820, i: 40\n",
      "num_sum: 861, i: 41\n",
      "num_sum: 903, i: 42\n",
      "num_sum: 946, i: 43\n",
      "num_sum: 990, i: 44\n",
      "num_sum: 1035, i: 45\n",
      "num_sum: 1081, i: 46\n",
      "num_sum: 1128, i: 47\n",
      "num_sum: 1176, i: 48\n",
      "num_sum: 1225, i: 49\n",
      "num_sum: 1275, i: 50\n",
      "num_sum: 1326, i: 51\n",
      "num_sum: 1378, i: 52\n",
      "num_sum: 1431, i: 53\n",
      "num_sum: 1485, i: 54\n",
      "num_sum: 1540, i: 55\n",
      "num_sum: 1596, i: 56\n",
      "num_sum: 1653, i: 57\n",
      "num_sum: 1711, i: 58\n",
      "num_sum: 1770, i: 59\n",
      "num_sum: 1830, i: 60\n",
      "num_sum: 1891, i: 61\n",
      "num_sum: 1953, i: 62\n",
      "num_sum: 2016, i: 63\n",
      "num_sum: 2080, i: 64\n",
      "num_sum: 2145, i: 65\n",
      "num_sum: 2211, i: 66\n",
      "num_sum: 2278, i: 67\n",
      "num_sum: 2346, i: 68\n",
      "num_sum: 2415, i: 69\n",
      "num_sum: 2485, i: 70\n",
      "num_sum: 2556, i: 71\n",
      "num_sum: 2628, i: 72\n",
      "num_sum: 2701, i: 73\n",
      "num_sum: 2775, i: 74\n",
      "num_sum: 2850, i: 75\n",
      "num_sum: 2926, i: 76\n",
      "num_sum: 3003, i: 77\n",
      "num_sum: 3081, i: 78\n",
      "num_sum: 3160, i: 79\n",
      "num_sum: 3240, i: 80\n",
      "num_sum: 3321, i: 81\n",
      "num_sum: 3403, i: 82\n",
      "num_sum: 3486, i: 83\n",
      "num_sum: 3570, i: 84\n",
      "num_sum: 3655, i: 85\n",
      "num_sum: 3741, i: 86\n",
      "num_sum: 3828, i: 87\n",
      "num_sum: 3916, i: 88\n",
      "num_sum: 4005, i: 89\n",
      "num_sum: 4095, i: 90\n",
      "num_sum: 4186, i: 91\n",
      "num_sum: 4278, i: 92\n",
      "num_sum: 4371, i: 93\n",
      "num_sum: 4465, i: 94\n",
      "num_sum: 4560, i: 95\n",
      "num_sum: 4656, i: 96\n",
      "num_sum: 4753, i: 97\n",
      "num_sum: 4851, i: 98\n",
      "num_sum: 4950, i: 99\n",
      "num_sum: 5050, i: 100\n",
      "1+2+......+100 = 5050\n"
     ]
    }
   ],
   "source": [
    "i = 0\n",
    "num_sum = 0\n",
    "while True:\n",
    "    if i > 100:\n",
    "        break\n",
    "    num_sum = num_sum + i\n",
    "    print('num_sum: {}, i: {}'.format(num_sum, i))\n",
    "    i = i + 1\n",
    "print('1+2+......+100 = {}'.format(num_sum))"
   ]
  },
  {
   "cell_type": "markdown",
   "metadata": {},
   "source": [
    "# for loop"
   ]
  },
  {
   "cell_type": "code",
   "execution_count": 36,
   "metadata": {},
   "outputs": [
    {
     "name": "stdout",
     "output_type": "stream",
     "text": [
      "0 1 2 3 4 5 6 7 8 9 10 11 12 13 14 15 16 17 18 19 20 21 22 23 24 25 26 27 28 29 30 31 32 33 34 35 36 37 38 39 40 41 42 43 44 45 46 47 48 49 50 51 52 53 54 55 56 57 58 59 60 61 62 63 64 65 66 67 68 69 70 71 72 73 74 75 76 77 78 79 80 81 82 83 84 85 86 87 88 89 90 91 92 93 94 95 96 97 98 99 "
     ]
    }
   ],
   "source": [
    "for i in range(100):\n",
    "    print(i, end=' ')"
   ]
  },
  {
   "cell_type": "code",
   "execution_count": 37,
   "metadata": {},
   "outputs": [
    {
     "name": "stdout",
     "output_type": "stream",
     "text": [
      "5 6 7 8 9 "
     ]
    }
   ],
   "source": [
    "for i in range(5, 10):\n",
    "    print(i, end=' ')"
   ]
  },
  {
   "cell_type": "code",
   "execution_count": 66,
   "metadata": {},
   "outputs": [
    {
     "name": "stdout",
     "output_type": "stream",
     "text": [
      "1 4 7 "
     ]
    }
   ],
   "source": [
    "for i in range(1, 10, 3):\n",
    "    print(i, end=' ')"
   ]
  },
  {
   "cell_type": "code",
   "execution_count": 70,
   "metadata": {},
   "outputs": [
    {
     "name": "stdout",
     "output_type": "stream",
     "text": [
      "10 -20 15 "
     ]
    }
   ],
   "source": [
    "my_list = [10, -20, 15]\n",
    "for i in my_list:\n",
    "    print(i, end=' ')"
   ]
  },
  {
   "cell_type": "code",
   "execution_count": 45,
   "metadata": {},
   "outputs": [
    {
     "name": "stdout",
     "output_type": "stream",
     "text": [
      "0\n",
      "10\n",
      "1\n",
      "-20\n",
      "2\n",
      "15\n"
     ]
    }
   ],
   "source": [
    "my_list = [10, -20, 15]\n",
    "for i in range(len(my_list)):\n",
    "    print(i)\n",
    "    print(my_list[i])"
   ]
  },
  {
   "cell_type": "code",
   "execution_count": 48,
   "metadata": {},
   "outputs": [
    {
     "name": "stdout",
     "output_type": "stream",
     "text": [
      "0 10\n",
      "1 -20\n",
      "2 15\n"
     ]
    }
   ],
   "source": [
    "my_list = [10, -20, 15]\n",
    "for index, i in enumerate(my_list):\n",
    "    print(index,i)"
   ]
  },
  {
   "cell_type": "code",
   "execution_count": 49,
   "metadata": {},
   "outputs": [
    {
     "name": "stdout",
     "output_type": "stream",
     "text": [
      "10 -20 15 "
     ]
    }
   ],
   "source": [
    "my_tuple = (10, -20, 15)\n",
    "for i in my_tuple:\n",
    "    print(i, end=' ')"
   ]
  },
  {
   "cell_type": "code",
   "execution_count": 50,
   "metadata": {},
   "outputs": [
    {
     "name": "stdout",
     "output_type": "stream",
     "text": [
      "t e s t 1 2 3 "
     ]
    }
   ],
   "source": [
    "my_string = 'test123'\n",
    "for i in my_string:\n",
    "    print(i, end=' ')"
   ]
  },
  {
   "cell_type": "code",
   "execution_count": 51,
   "metadata": {},
   "outputs": [
    {
     "name": "stdout",
     "output_type": "stream",
     "text": [
      "isaac\n",
      "andy\n",
      "judy\n"
     ]
    }
   ],
   "source": [
    "my_dict = {'isaac':50, 'andy':80, 'judy':20}\n",
    "for i in my_dict:\n",
    "    print(i)"
   ]
  },
  {
   "cell_type": "code",
   "execution_count": 52,
   "metadata": {},
   "outputs": [
    {
     "name": "stdout",
     "output_type": "stream",
     "text": [
      "50\n",
      "80\n",
      "20\n"
     ]
    }
   ],
   "source": [
    "my_dict = {'isaac':50, 'andy':80, 'judy':20}\n",
    "for i in my_dict.values():\n",
    "    print(i)"
   ]
  },
  {
   "cell_type": "markdown",
   "metadata": {},
   "source": [
    "# nested loop"
   ]
  },
  {
   "cell_type": "code",
   "execution_count": 55,
   "metadata": {},
   "outputs": [
    {
     "name": "stdout",
     "output_type": "stream",
     "text": [
      "i: 0, j: 0\n",
      "*i: 0, j: 1\n",
      "*i: 0, j: 2\n",
      "*i: 0, j: 3\n",
      "*i: 0, j: 4\n",
      "*i: 0, j: 5\n",
      "*\n",
      "i: 1, j: 0\n",
      "*i: 1, j: 1\n",
      "*i: 1, j: 2\n",
      "*i: 1, j: 3\n",
      "*i: 1, j: 4\n",
      "*i: 1, j: 5\n",
      "*\n",
      "i: 2, j: 0\n",
      "*i: 2, j: 1\n",
      "*i: 2, j: 2\n",
      "*i: 2, j: 3\n",
      "*i: 2, j: 4\n",
      "*i: 2, j: 5\n",
      "*\n",
      "i: 3, j: 0\n",
      "*i: 3, j: 1\n",
      "*i: 3, j: 2\n",
      "*i: 3, j: 3\n",
      "*i: 3, j: 4\n",
      "*i: 3, j: 5\n",
      "*\n",
      "i: 4, j: 0\n",
      "*i: 4, j: 1\n",
      "*i: 4, j: 2\n",
      "*i: 4, j: 3\n",
      "*i: 4, j: 4\n",
      "*i: 4, j: 5\n",
      "*\n"
     ]
    }
   ],
   "source": [
    "n=5\n",
    "for i in range(n):\n",
    "    for j in range(n+1):\n",
    "        print('i: {}, j: {}'.format(i,j))\n",
    "        print('*', end='')\n",
    "    print('')"
   ]
  },
  {
   "cell_type": "code",
   "execution_count": null,
   "metadata": {},
   "outputs": [],
   "source": [
    "n=5\n",
    "for i in range(n):\n",
    "    for j in range(i):\n",
    "        print ('* ', end=\"\")\n",
    "    print('')\n",
    "\n",
    "for i in range(n,0,-1):\n",
    "    for j in range(i):\n",
    "        print('* ', end=\"\")\n",
    "    print('')"
   ]
  },
  {
   "cell_type": "code",
   "execution_count": null,
   "metadata": {},
   "outputs": [],
   "source": [
    "\n",
    "for i in range(5,0,-1):\n",
    "    print(i)"
   ]
  },
  {
   "cell_type": "code",
   "execution_count": null,
   "metadata": {},
   "outputs": [],
   "source": [
    "for i in range(1,10,2):\n",
    "    print(i)"
   ]
  },
  {
   "cell_type": "markdown",
   "metadata": {},
   "source": [
    "# 問題1: 輸入一個數字N，如果N是奇數，請計算1* 3*......* N，如果N是偶數，請計算2* 4*......* N"
   ]
  },
  {
   "cell_type": "code",
   "execution_count": 60,
   "metadata": {},
   "outputs": [
    {
     "name": "stdout",
     "output_type": "stream",
     "text": [
      "please input a number N: 5\n",
      "15\n"
     ]
    }
   ],
   "source": [
    "N = int(input('please input a number N: '))\n",
    "\n",
    "if N % 2 == 1:\n",
    "    result = 1\n",
    "    for i in range(1, N+2, 2):\n",
    "        result = result * i\n",
    "else:\n",
    "    result = 1\n",
    "    for i in range(2, N+2, 2):\n",
    "        result = result * i\n",
    "\n",
    "print(result)"
   ]
  },
  {
   "cell_type": "code",
   "execution_count": null,
   "metadata": {},
   "outputs": [],
   "source": []
  },
  {
   "cell_type": "code",
   "execution_count": null,
   "metadata": {},
   "outputs": [],
   "source": [
    "6"
   ]
  },
  {
   "cell_type": "code",
   "execution_count": null,
   "metadata": {},
   "outputs": [],
   "source": []
  },
  {
   "cell_type": "code",
   "execution_count": null,
   "metadata": {},
   "outputs": [],
   "source": []
  },
  {
   "cell_type": "code",
   "execution_count": null,
   "metadata": {},
   "outputs": [],
   "source": []
  },
  {
   "cell_type": "code",
   "execution_count": null,
   "metadata": {},
   "outputs": [],
   "source": []
  },
  {
   "cell_type": "code",
   "execution_count": null,
   "metadata": {},
   "outputs": [],
   "source": []
  },
  {
   "cell_type": "code",
   "execution_count": null,
   "metadata": {},
   "outputs": [],
   "source": []
  },
  {
   "cell_type": "code",
   "execution_count": null,
   "metadata": {},
   "outputs": [],
   "source": []
  },
  {
   "cell_type": "code",
   "execution_count": null,
   "metadata": {},
   "outputs": [],
   "source": []
  }
 ],
 "metadata": {
  "kernelspec": {
   "display_name": "Python 3 (ipykernel)",
   "language": "python",
   "name": "python3"
  },
  "language_info": {
   "codemirror_mode": {
    "name": "ipython",
    "version": 3
   },
   "file_extension": ".py",
   "mimetype": "text/x-python",
   "name": "python",
   "nbconvert_exporter": "python",
   "pygments_lexer": "ipython3",
   "version": "3.8.12"
  }
 },
 "nbformat": 4,
 "nbformat_minor": 4
}
