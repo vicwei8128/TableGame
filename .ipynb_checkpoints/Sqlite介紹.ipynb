{
 "cells": [
  {
   "cell_type": "markdown",
   "metadata": {},
   "source": [
    "# Connect DB"
   ]
  },
  {
   "cell_type": "code",
   "execution_count": 1,
   "metadata": {},
   "outputs": [],
   "source": [
    "import sqlite3\n",
    "conn = sqlite3.connect(\"myData.db\")\n",
    "conn.close()"
   ]
  },
  {
   "cell_type": "markdown",
   "metadata": {},
   "source": [
    "# Create Table"
   ]
  },
  {
   "cell_type": "code",
   "execution_count": 2,
   "metadata": {},
   "outputs": [],
   "source": [
    "import sqlite3\n",
    "conn = sqlite3.connect(\"myData2.db\")   # 資料庫連線\n",
    "cursor = conn.cursor()\n",
    "sql = '''Create table students(  \n",
    "        id int,\n",
    "        name text,\n",
    "        gender text)'''\n",
    "cursor.execute(sql)                     # 執行SQL指令\n",
    "cursor.close()                          # 關閉\n",
    "conn.close()                            # 關閉資料庫連線"
   ]
  },
  {
   "cell_type": "code",
   "execution_count": 3,
   "metadata": {},
   "outputs": [],
   "source": [
    "import sqlite3\n",
    "conn = sqlite3.connect(\"myData3.db\")     # 資料庫連線\n",
    "sql = '''Create table students(  \n",
    "        id int,\n",
    "        name text,\n",
    "        gender text)'''\n",
    "conn.execute(sql)                       # 執行SQL指令\n",
    "conn.close()                            # 關閉資料庫連線"
   ]
  },
  {
   "cell_type": "markdown",
   "metadata": {},
   "source": [
    "# Insert Data"
   ]
  },
  {
   "cell_type": "code",
   "execution_count": 6,
   "metadata": {},
   "outputs": [
    {
     "name": "stdout",
     "output_type": "stream",
     "text": [
      "請輸入myData3資料庫students表單資料\n",
      "請輸入id : 1\n",
      "請輸入name : isaac\n",
      "請輸入gender : m\n",
      "繼續(y/n)? y\n",
      "請輸入id : 2\n",
      "請輸入name : judy\n",
      "請輸入gender : f\n",
      "繼續(y/n)? n\n"
     ]
    }
   ],
   "source": [
    "import sqlite3\n",
    "conn = sqlite3.connect(\"myData3.db\")     # 資料庫連線\n",
    "print(\"請輸入myData3資料庫students表單資料\")\n",
    "while True:\n",
    "    new_id = int(input(\"請輸入id : \"))  # 轉成整數\n",
    "    new_name = input(\"請輸入name : \")\n",
    "    new_gender = input(\"請輸入gender : \")\n",
    "    x = (new_id, new_name, new_gender)\n",
    "    sql = '''insert into students values(?,?,?)'''  \n",
    "    conn.execute(sql,x)\n",
    "    conn.commit()                       # 更新資料庫\n",
    "    again = input(\"繼續(y/n)? \")\n",
    "    if again[0].lower() == \"n\":\n",
    "        break\n",
    "conn.close()                            # 關閉資料庫連線"
   ]
  },
  {
   "cell_type": "markdown",
   "metadata": {},
   "source": [
    "# Query Data"
   ]
  },
  {
   "cell_type": "code",
   "execution_count": 7,
   "metadata": {},
   "outputs": [
    {
     "name": "stdout",
     "output_type": "stream",
     "text": [
      "id =  1\n",
      "name =  isaac\n",
      "gender =  m\n",
      "id =  2\n",
      "name =  judy\n",
      "gender =  f\n"
     ]
    }
   ],
   "source": [
    "import sqlite3\n",
    "conn = sqlite3.connect(\"myData3.db\")     # 資料庫連線\n",
    "results = conn.execute(\"SELECT * from students\")\n",
    "for record in results:\n",
    "    print(\"id = \", record[0])\n",
    "    print(\"name = \", record[1])\n",
    "    print(\"gender = \", record[2])\n",
    "conn.close()                            # 關閉資料庫連線"
   ]
  },
  {
   "cell_type": "code",
   "execution_count": 8,
   "metadata": {},
   "outputs": [
    {
     "name": "stdout",
     "output_type": "stream",
     "text": [
      "(1, 'isaac', 'm')\n",
      "(2, 'judy', 'f')\n"
     ]
    }
   ],
   "source": [
    "import sqlite3\n",
    "conn = sqlite3.connect(\"myData3.db\")     # 資料庫連線\n",
    "results = conn.execute(\"SELECT * from students\")\n",
    "allstudents = results.fetchall()        # 結果轉成元素是元組的串列\n",
    "for student in allstudents:\n",
    "    print(student)\n",
    "conn.close()                            # 關閉資料庫連線\n"
   ]
  },
  {
   "cell_type": "code",
   "execution_count": 9,
   "metadata": {},
   "outputs": [
    {
     "name": "stdout",
     "output_type": "stream",
     "text": [
      "('isaac',)\n",
      "('judy',)\n"
     ]
    }
   ],
   "source": [
    "import sqlite3\n",
    "conn = sqlite3.connect(\"myData3.db\")     # 資料庫連線\n",
    "results = conn.execute(\"SELECT name from students\")\n",
    "allstudents = results.fetchall()        # 結果轉成元素是元組的串列\n",
    "for student in allstudents:\n",
    "    print(student)\n",
    "conn.close()                            # 關閉資料庫連線"
   ]
  },
  {
   "cell_type": "code",
   "execution_count": 10,
   "metadata": {},
   "outputs": [
    {
     "name": "stdout",
     "output_type": "stream",
     "text": [
      "('judy', 'f')\n"
     ]
    }
   ],
   "source": [
    "import sqlite3\n",
    "conn = sqlite3.connect(\"myData3.db\")     # 資料庫連線\n",
    "sql = '''SELECT name, gender\n",
    "        from students\n",
    "        where gender = \"f\"'''\n",
    "results = conn.execute(sql)\n",
    "allstudents = results.fetchall()        # 結果轉成元素是元組的串列\n",
    "for student in allstudents:\n",
    "    print(student)\n",
    "conn.close()                            # 關閉資料庫連線"
   ]
  },
  {
   "cell_type": "markdown",
   "metadata": {},
   "source": [
    "# Update Data"
   ]
  },
  {
   "cell_type": "code",
   "execution_count": 11,
   "metadata": {},
   "outputs": [
    {
     "name": "stdout",
     "output_type": "stream",
     "text": [
      "('Tomy',)\n",
      "('judy',)\n"
     ]
    }
   ],
   "source": [
    "import sqlite3\n",
    "conn = sqlite3.connect(\"myData3.db\")     # 資料庫連線\n",
    "sql = '''UPDATE students\n",
    "        set name = \"Tomy\"\n",
    "        where id = 1'''\n",
    "results = conn.execute(sql)\n",
    "conn.commit()                           # 更新資料庫\n",
    "results = conn.execute(\"SELECT name from students\")\n",
    "allstudents = results.fetchall()        # 結果轉成元素是元組的串列\n",
    "for student in allstudents:\n",
    "    print(student)\n",
    "conn.close()                            # 關閉資料庫連線"
   ]
  },
  {
   "cell_type": "markdown",
   "metadata": {},
   "source": [
    "# Delete Data"
   ]
  },
  {
   "cell_type": "code",
   "execution_count": 12,
   "metadata": {},
   "outputs": [
    {
     "name": "stdout",
     "output_type": "stream",
     "text": [
      "('Tomy',)\n"
     ]
    }
   ],
   "source": [
    "import sqlite3\n",
    "conn = sqlite3.connect(\"myData3.db\")     # 資料庫連線\n",
    "sql = '''DELETE\n",
    "        from students\n",
    "        where id = 2'''\n",
    "results = conn.execute(sql)\n",
    "conn.commit()                           # 更新資料庫\n",
    "results = conn.execute(\"SELECT name from students\")\n",
    "allstudents = results.fetchall()        # 結果轉成元素是元組的串列\n",
    "for student in allstudents:\n",
    "    print(student)\n",
    "conn.close()                            # 關閉資料庫連線"
   ]
  },
  {
   "cell_type": "code",
   "execution_count": null,
   "metadata": {},
   "outputs": [],
   "source": []
  }
 ],
 "metadata": {
  "kernelspec": {
   "display_name": "Python 3 (ipykernel)",
   "language": "python",
   "name": "python3"
  },
  "language_info": {
   "codemirror_mode": {
    "name": "ipython",
    "version": 3
   },
   "file_extension": ".py",
   "mimetype": "text/x-python",
   "name": "python",
   "nbconvert_exporter": "python",
   "pygments_lexer": "ipython3",
   "version": "3.8.12"
  }
 },
 "nbformat": 4,
 "nbformat_minor": 4
}
